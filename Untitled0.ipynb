{
 "metadata": {
  "name": ""
 },
 "nbformat": 3,
 "nbformat_minor": 0,
 "worksheets": [
  {
   "cells": [
    {
     "cell_type": "code",
     "collapsed": false,
     "input": [
      "import pandas as pd\n",
      "import matplotlib as plt\n",
      "import ast #abstract syntax trees\n",
      "import sklearn.linear_model as lm #linear model scikit learn\n",
      "\n",
      "import numpy as np\n",
      "import scipy as sp\n",
      "import scipy.stats as st\n",
      "import pickle\n",
      "from sklearn import cross_validation\n",
      "from sklearn import datasets\n",
      "from sklearn.metrics import confusion_matrix, roc_curve, auc, f1_score\n",
      "from sklearn.externals import joblib\n",
      "from sklearn.naive_bayes import BernoulliNB, MultinomialNB, GaussianNB\n",
      "from sklearn.cross_validation import train_test_split\n",
      "import matplotlib.pyplot as plt\n",
      "from sklearn.feature_extraction.text import TfidfVectorizer\n",
      "\n",
      "import json\n",
      "import nltk\n",
      "import unicodedata\n",
      "\n",
      "from sklearn.feature_extraction.text import CountVectorizer"
     ],
     "language": "python",
     "metadata": {},
     "outputs": [],
     "prompt_number": 13
    },
    {
     "cell_type": "code",
     "collapsed": false,
     "input": [
      "df = pd.DataFrame.from_csv('../evergreen/train.tsv', sep='\\t') #import traning set as df"
     ],
     "language": "python",
     "metadata": {},
     "outputs": [],
     "prompt_number": 14
    },
    {
     "cell_type": "code",
     "collapsed": false,
     "input": [
      "df.boilerplate[1]"
     ],
     "language": "python",
     "metadata": {},
     "outputs": [
      {
       "metadata": {},
       "output_type": "pyout",
       "prompt_number": 16,
       "text": [
        "'{\"title\":\"The Fully Electronic Futuristic Starting Gun That Eliminates Advantages in Races the fully electronic, futuristic starting gun that eliminates advantages in races the fully electronic, futuristic starting gun that eliminates advantages in races\",\"body\":\"And that can be carried on a plane without the hassle too The Omega E Gun Starting Pistol Omega It s easy to take for granted just how insanely close some Olympic races are and how much the minutiae of it all can matter The perfect example is the traditional starting gun Seems easy You pull a trigger and the race starts Boom What people don t consider When a conventional gun goes off the sound travels to the ears of the closest runner a fraction of a second sooner than the others That s just enough to matter and why the latest starting pistol has traded in the mechanical boom for orchestrated electronic noise Omega has been the watch company tasked as the official timekeeper of the Olympic Games since 1932 At the 2010 Vancouver games they debuted their new starting gun which is a far cry from the iconic revolvers associated with early games it s clearly electronic but still more than a button that s pressed to get the show rolling About as far away as you can get probably while still clearly being a starting gun Pull the trigger once and off the Olympians go If it s pressed twice consecutively it signals a false start Working through a speaker system is what eliminates any kind of advantage for athletes It s not a big advantage being close to a gun but the sound of the bullet traveling one meter every three milliseconds could contribute to a win Powder pistols have been connected to a speaker system before but even then runners could react to the sound of the real pistol firing rather than wait for the speaker sounds to reach them This year s setup will have speakers placed equidistant from runners forcing the sound to reach each competitor at exactly the same time It wouldn t be an enormous difference Omega Timing board member Peter H\\\\u00fcrzeler said in an email but when you think about reaction times being measured in tiny fractions of a second placing a speaker behind each lane has eliminated any sort of advantage for any athlete They all hear the start commands and signal at exactly the same moment There s also an ulterior reason for its look In a post September 11th world a gun on its way to a major event is going to raise more than a few TSA eyebrows even if it s a realistic looking fake Rather than deal with that the e gun can be transported while still maintaining the general look of a starting gun But there s still nothing like hearing a starting gun go off at the start of a race more than signaling the runners there s probably some Pavlovian response after more than a century of Olympic games that make people want to hear the real thing not a whiny electronic noise Everyone in the stands at home thankfully will still be getting that The sound is programmable and can be synthesized to sound like almost anything H\\\\u00fcrzeler says but we program it to sound like a pistol it s a way to use the best possible starting technology but to keep a rich tradition alive and that can be carried on a plane without the hassle, too technology,gadgets,london 2012,london olympics,olympics,omega,starting guns,summer olympics,timing,popular science,popsci\",\"url\":\"popsci technology article 2012 07 electronic futuristic starting gun eliminates advantages races\"}'"
       ]
      }
     ],
     "prompt_number": 16
    },
    {
     "cell_type": "code",
     "collapsed": false,
     "input": [
      "for idx, i in enumerate(df.boilerplate): # \n",
      "    try:\n",
      "        df.boilerplate.iloc[idx] = ast.literal_eval(i)\n",
      "    except:\n",
      "        temp = df.boilerplate.iloc[idx].split('null,')\n",
      "        fixed = ''\n",
      "        if len(temp) == 2:\n",
      "            fixed = (temp[0]+'\"empty\",'+temp[1])\n",
      "        else:\n",
      "            fixed = (temp[0]+'\"empty\",'+temp[1] + '\"empty\",' + temp[2])\n",
      "        df.boilerplate.iloc[idx] = ast.literal_eval(fixed)"
     ],
     "language": "python",
     "metadata": {},
     "outputs": [],
     "prompt_number": 17
    },
    {
     "cell_type": "code",
     "collapsed": false,
     "input": [
      "type(df.boilerplate[1])"
     ],
     "language": "python",
     "metadata": {},
     "outputs": [
      {
       "metadata": {},
       "output_type": "pyout",
       "prompt_number": 18,
       "text": [
        "dict"
       ]
      }
     ],
     "prompt_number": 18
    },
    {
     "cell_type": "code",
     "collapsed": false,
     "input": [
      "labels = np.array(df['label'])\n",
      "ltest_list = unique(labels)\n",
      "\n",
      "# print sum(df['label'])"
     ],
     "language": "python",
     "metadata": {},
     "outputs": [],
     "prompt_number": 20
    },
    {
     "cell_type": "code",
     "collapsed": false,
     "input": [
      "# vectorizer = CountVectorizer(min_df=1)\n",
      "vectorizer = TfidfVectorizer(min_df=3,strip_accents=None,ngram_range=(1,2),\n",
      "                             stop_words='english',max_features=None,binary=False,\n",
      "                             norm='l2',use_idf=True,smooth_idf=True,sublinear_tf=True)\n",
      "\n",
      "features = []\n",
      "for i in df.boilerplate:\n",
      "    features.append(i['body'])\n",
      "\n",
      "features = np.array(features)\n",
      "\n",
      "labels = np.array(df['label'])\n",
      "ltest_list = unique(labels)\n",
      "X = vectorizer.fit_transform(features,y=labels)\n",
      "\n",
      "x_train, x_split, labels_train, labels_split = train_test_split(X,labels,test_size=0.4)\n",
      "x_cross, x_test, labels_cross, labels_test = train_test_split(x_split,labels_split,test_size=0.5)\n",
      "\n",
      "\n",
      "minwrong = 1000\n",
      "bestalpha = 0\n",
      "for atest in np.linspace(0,2,101):\n",
      "    mnb = MultinomialNB(alpha=atest)\n",
      "    lpred_cross = mnb.fit(x_train,labels_train).predict(x_cross)\n",
      "    numwrong = (labels_cross != lpred_cross).sum()\n",
      "    if numwrong < minwrong:\n",
      "        minwrong = numwrong\n",
      "        bestalpha = atest\n",
      "print(\"The best alpha is %f\" % (bestalpha))\n",
      "print(\"Number of mislabeled points: %d\" % minwrong)"
     ],
     "language": "python",
     "metadata": {},
     "outputs": [
      {
       "output_type": "stream",
       "stream": "stdout",
       "text": [
        "The best alpha is 1.140000\n",
        "Number of mislabeled points: 302\n"
       ]
      }
     ],
     "prompt_number": 21
    },
    {
     "cell_type": "code",
     "collapsed": false,
     "input": [],
     "language": "python",
     "metadata": {},
     "outputs": []
    }
   ],
   "metadata": {}
  }
 ]
}